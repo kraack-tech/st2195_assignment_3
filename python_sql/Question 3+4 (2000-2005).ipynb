{
 "cells": [
  {
   "cell_type": "code",
   "execution_count": 1,
   "id": "91b6984f",
   "metadata": {},
   "outputs": [],
   "source": [
    "import sqlite3\n",
    "conn = sqlite3.connect('airline2.db')"
   ]
  },
  {
   "cell_type": "code",
   "execution_count": 2,
   "id": "beb07149",
   "metadata": {
    "scrolled": true
   },
   "outputs": [
    {
     "name": "stderr",
     "output_type": "stream",
     "text": [
      "C:\\Users\\e2u\\anaconda3\\lib\\site-packages\\IPython\\core\\interactiveshell.py:3444: DtypeWarning: Columns (22) have mixed types.Specify dtype option on import or set low_memory=False.\n",
      "  exec(code_obj, self.user_global_ns, self.user_ns)\n"
     ]
    }
   ],
   "source": [
    "import pandas as pd\n",
    "\n",
    "airports = pd.read_csv(\"airports.csv\")\n",
    "carriers = pd.read_csv(\"carriers.csv\")\n",
    "airplanes = pd.read_csv(\"planedata.csv\")\n",
    "df1 = pd.read_csv(\"2000.csv\", encoding='latin-1')\n",
    "df2 = pd.read_csv(\"2001.csv\", encoding='latin-1')\n",
    "df3 = pd.read_csv(\"2002.csv\", encoding='latin-1')\n",
    "df4 = pd.read_csv(\"2003.csv\", encoding='latin-1')\n",
    "df5 = pd.read_csv(\"2004.csv\", encoding='latin-1')\n",
    "df6 = pd.read_csv(\"2005.csv\", encoding='latin-1')\n"
   ]
  },
  {
   "cell_type": "code",
   "execution_count": 3,
   "id": "987ff622",
   "metadata": {},
   "outputs": [],
   "source": [
    "ontime = pd.concat([df1, df2, df3, df4, df5, df6])"
   ]
  },
  {
   "cell_type": "code",
   "execution_count": 4,
   "id": "583de8e4",
   "metadata": {},
   "outputs": [
    {
     "data": {
      "text/plain": [
       "<bound method NDFrame.tail of          Year  Month  DayofMonth  DayOfWeek  DepTime  CRSDepTime  ArrTime  \\\n",
       "0        2000      1          28          5   1647.0        1647   1906.0   \n",
       "1        2000      1          29          6   1648.0        1647   1939.0   \n",
       "2        2000      1          30          7      NaN        1647      NaN   \n",
       "3        2000      1          31          1   1645.0        1647   1852.0   \n",
       "4        2000      1           1          6    842.0         846   1057.0   \n",
       "...       ...    ...         ...        ...      ...         ...      ...   \n",
       "7140591  2005     12          22          4   1652.0        1655   1815.0   \n",
       "7140592  2005     12          22          4   1825.0        1825   1858.0   \n",
       "7140593  2005     12          22          4   1507.0        1511   1641.0   \n",
       "7140594  2005     12          22          4    924.0         925   1056.0   \n",
       "7140595  2005     12          22          4   1345.0        1344   1621.0   \n",
       "\n",
       "         CRSArrTime UniqueCarrier  FlightNum  ... TaxiIn  TaxiOut  Cancelled  \\\n",
       "0              1859            HP        154  ...     15       11          0   \n",
       "1              1859            HP        154  ...      5       47          0   \n",
       "2              1859            HP        154  ...      0        0          1   \n",
       "3              1859            HP        154  ...      7       14          0   \n",
       "4              1101            HP        609  ...      3        8          0   \n",
       "...             ...           ...        ...  ...    ...      ...        ...   \n",
       "7140591        1837            DL        901  ...      7       15          0   \n",
       "7140592        1848            DL        902  ...      7       32          0   \n",
       "7140593        1649            DL        903  ...      4       29          0   \n",
       "7140594        1111            DL        904  ...      4       19          0   \n",
       "7140595        1614            DL        905  ...      6       27          0   \n",
       "\n",
       "         CancellationCode  Diverted  CarrierDelay WeatherDelay NASDelay  \\\n",
       "0                     NaN         0           NaN          NaN      NaN   \n",
       "1                     NaN         0           NaN          NaN      NaN   \n",
       "2                     NaN         0           NaN          NaN      NaN   \n",
       "3                     NaN         0           NaN          NaN      NaN   \n",
       "4                     NaN         0           NaN          NaN      NaN   \n",
       "...                   ...       ...           ...          ...      ...   \n",
       "7140591               NaN         0           0.0          0.0      0.0   \n",
       "7140592               NaN         0           0.0          0.0      0.0   \n",
       "7140593               NaN         0           0.0          0.0      0.0   \n",
       "7140594               NaN         0           0.0          0.0      0.0   \n",
       "7140595               NaN         0           0.0          0.0      0.0   \n",
       "\n",
       "         SecurityDelay  LateAircraftDelay  \n",
       "0                  NaN                NaN  \n",
       "1                  NaN                NaN  \n",
       "2                  NaN                NaN  \n",
       "3                  NaN                NaN  \n",
       "4                  NaN                NaN  \n",
       "...                ...                ...  \n",
       "7140591            0.0                0.0  \n",
       "7140592            0.0                0.0  \n",
       "7140593            0.0                0.0  \n",
       "7140594            0.0                0.0  \n",
       "7140595            0.0                0.0  \n",
       "\n",
       "[37680592 rows x 29 columns]>"
      ]
     },
     "execution_count": 4,
     "metadata": {},
     "output_type": "execute_result"
    }
   ],
   "source": [
    "ontime.tail"
   ]
  },
  {
   "cell_type": "code",
   "execution_count": 5,
   "id": "999212d8",
   "metadata": {},
   "outputs": [],
   "source": [
    "airports.to_sql('airports2', con = conn, index = False) \n",
    "carriers.to_sql('carriers2', con = conn, index = False)\n",
    "airplanes.to_sql('planedata2', con = conn, index = False)\n",
    "ontime.to_sql('ontime2', con = conn, index = False) "
   ]
  },
  {
   "cell_type": "code",
   "execution_count": 6,
   "id": "43142061",
   "metadata": {},
   "outputs": [],
   "source": [
    "conn.commit()"
   ]
  },
  {
   "cell_type": "code",
   "execution_count": 7,
   "id": "f84e41f5",
   "metadata": {},
   "outputs": [
    {
     "data": {
      "text/plain": [
       "[('airports2',), ('carriers2',), ('planedata2',), ('ontime2',)]"
      ]
     },
     "execution_count": 7,
     "metadata": {},
     "output_type": "execute_result"
    }
   ],
   "source": [
    "c = conn.cursor()\n",
    "c.execute(\"SELECT name FROM sqlite_master WHERE type='table'\").fetchall()"
   ]
  },
  {
   "cell_type": "code",
   "execution_count": 9,
   "id": "6df2c25b",
   "metadata": {},
   "outputs": [
    {
     "data": {
      "text/html": [
       "<div>\n",
       "<style scoped>\n",
       "    .dataframe tbody tr th:only-of-type {\n",
       "        vertical-align: middle;\n",
       "    }\n",
       "\n",
       "    .dataframe tbody tr th {\n",
       "        vertical-align: top;\n",
       "    }\n",
       "\n",
       "    .dataframe thead th {\n",
       "        text-align: right;\n",
       "    }\n",
       "</style>\n",
       "<table border=\"1\" class=\"dataframe\">\n",
       "  <thead>\n",
       "    <tr style=\"text-align: right;\">\n",
       "      <th></th>\n",
       "      <th>0</th>\n",
       "      <th>1</th>\n",
       "    </tr>\n",
       "  </thead>\n",
       "  <tbody>\n",
       "    <tr>\n",
       "      <th>0</th>\n",
       "      <td>Chicago</td>\n",
       "      <td>2388365</td>\n",
       "    </tr>\n",
       "    <tr>\n",
       "      <th>1</th>\n",
       "      <td>Atlanta</td>\n",
       "      <td>1912370</td>\n",
       "    </tr>\n",
       "    <tr>\n",
       "      <th>2</th>\n",
       "      <td>Dallas-Fort Worth</td>\n",
       "      <td>1781833</td>\n",
       "    </tr>\n",
       "    <tr>\n",
       "      <th>3</th>\n",
       "      <td>Houston</td>\n",
       "      <td>1304407</td>\n",
       "    </tr>\n",
       "    <tr>\n",
       "      <th>4</th>\n",
       "      <td>Los Angeles</td>\n",
       "      <td>1279514</td>\n",
       "    </tr>\n",
       "    <tr>\n",
       "      <th>...</th>\n",
       "      <td>...</td>\n",
       "      <td>...</td>\n",
       "    </tr>\n",
       "    <tr>\n",
       "      <th>282</th>\n",
       "      <td>Provo</td>\n",
       "      <td>3</td>\n",
       "    </tr>\n",
       "    <tr>\n",
       "      <th>283</th>\n",
       "      <td>Cheyenne</td>\n",
       "      <td>2</td>\n",
       "    </tr>\n",
       "    <tr>\n",
       "      <th>284</th>\n",
       "      <td>Scottsbluff</td>\n",
       "      <td>1</td>\n",
       "    </tr>\n",
       "    <tr>\n",
       "      <th>285</th>\n",
       "      <td>Roswell</td>\n",
       "      <td>1</td>\n",
       "    </tr>\n",
       "    <tr>\n",
       "      <th>286</th>\n",
       "      <td>Laramie</td>\n",
       "      <td>1</td>\n",
       "    </tr>\n",
       "  </tbody>\n",
       "</table>\n",
       "<p>287 rows × 2 columns</p>\n",
       "</div>"
      ],
      "text/plain": [
       "                     0        1\n",
       "0              Chicago  2388365\n",
       "1              Atlanta  1912370\n",
       "2    Dallas-Fort Worth  1781833\n",
       "3              Houston  1304407\n",
       "4          Los Angeles  1279514\n",
       "..                 ...      ...\n",
       "282              Provo        3\n",
       "283           Cheyenne        2\n",
       "284        Scottsbluff        1\n",
       "285            Roswell        1\n",
       "286            Laramie        1\n",
       "\n",
       "[287 rows x 2 columns]"
      ]
     },
     "execution_count": 9,
     "metadata": {},
     "output_type": "execute_result"
    }
   ],
   "source": [
    "# City with highest number of inbound flights (excluding cancelled flights) = Chicago\n",
    "\n",
    "q1 = c.execute('''\n",
    "SELECT airports2.city as city, COUNT(*) AS total\n",
    "FROM airports2  JOIN ontime2 ON ontime2.dest = airports2.iata\n",
    "WHERE ontime2.Cancelled = 0\n",
    "GROUP BY airports2.city\n",
    "ORDER BY total DESC\n",
    "''').fetchall()\n",
    "\n",
    "pd.DataFrame(q1)"
   ]
  },
  {
   "cell_type": "code",
   "execution_count": 12,
   "id": "833bdf39",
   "metadata": {},
   "outputs": [
    {
     "data": {
      "text/html": [
       "<div>\n",
       "<style scoped>\n",
       "    .dataframe tbody tr th:only-of-type {\n",
       "        vertical-align: middle;\n",
       "    }\n",
       "\n",
       "    .dataframe tbody tr th {\n",
       "        vertical-align: top;\n",
       "    }\n",
       "\n",
       "    .dataframe thead th {\n",
       "        text-align: right;\n",
       "    }\n",
       "</style>\n",
       "<table border=\"1\" class=\"dataframe\">\n",
       "  <thead>\n",
       "    <tr style=\"text-align: right;\">\n",
       "      <th></th>\n",
       "      <th>0</th>\n",
       "      <th>1</th>\n",
       "    </tr>\n",
       "  </thead>\n",
       "  <tbody>\n",
       "    <tr>\n",
       "      <th>0</th>\n",
       "      <td>737-2Y5</td>\n",
       "      <td>7.022026</td>\n",
       "    </tr>\n",
       "    <tr>\n",
       "      <th>1</th>\n",
       "      <td>737-282</td>\n",
       "      <td>8.433566</td>\n",
       "    </tr>\n",
       "    <tr>\n",
       "      <th>2</th>\n",
       "      <td>737-230</td>\n",
       "      <td>10.458647</td>\n",
       "    </tr>\n",
       "    <tr>\n",
       "      <th>3</th>\n",
       "      <td>737-282C</td>\n",
       "      <td>11.765766</td>\n",
       "    </tr>\n",
       "    <tr>\n",
       "      <th>4</th>\n",
       "      <td>767-324</td>\n",
       "      <td>15.788051</td>\n",
       "    </tr>\n",
       "    <tr>\n",
       "      <th>...</th>\n",
       "      <td>...</td>\n",
       "      <td>...</td>\n",
       "    </tr>\n",
       "    <tr>\n",
       "      <th>141</th>\n",
       "      <td>ATR 72-212</td>\n",
       "      <td>38.267365</td>\n",
       "    </tr>\n",
       "    <tr>\n",
       "      <th>142</th>\n",
       "      <td>ATR-72-212</td>\n",
       "      <td>38.699195</td>\n",
       "    </tr>\n",
       "    <tr>\n",
       "      <th>143</th>\n",
       "      <td>717-200</td>\n",
       "      <td>38.737105</td>\n",
       "    </tr>\n",
       "    <tr>\n",
       "      <th>144</th>\n",
       "      <td>ERJ 190-100 IGW</td>\n",
       "      <td>41.723958</td>\n",
       "    </tr>\n",
       "    <tr>\n",
       "      <th>145</th>\n",
       "      <td>A330-223</td>\n",
       "      <td>55.800000</td>\n",
       "    </tr>\n",
       "  </tbody>\n",
       "</table>\n",
       "<p>146 rows × 2 columns</p>\n",
       "</div>"
      ],
      "text/plain": [
       "                   0          1\n",
       "0            737-2Y5   7.022026\n",
       "1            737-282   8.433566\n",
       "2            737-230  10.458647\n",
       "3           737-282C  11.765766\n",
       "4            767-324  15.788051\n",
       "..               ...        ...\n",
       "141       ATR 72-212  38.267365\n",
       "142       ATR-72-212  38.699195\n",
       "143          717-200  38.737105\n",
       "144  ERJ 190-100 IGW  41.723958\n",
       "145         A330-223  55.800000\n",
       "\n",
       "[146 rows x 2 columns]"
      ]
     },
     "execution_count": 12,
     "metadata": {},
     "output_type": "execute_result"
    }
   ],
   "source": [
    "# airplane that has the lowest avg. dep. delay (excl. cancelled and diverted) = 737-2Y5\n",
    "\n",
    "q3 = c.execute('''\n",
    "SELECT model AS model, AVG(ontime2.DepDelay) AS avg_delay\n",
    "FROM planedata2 JOIN ontime2 USING(tailnum)\n",
    "WHERE ontime2.Cancelled = 0 AND ontime2.Diverted = 0 AND ontime2.DepDelay > 0\n",
    "GROUP BY model\n",
    "ORDER BY avg_delay\n",
    " ''').fetchall()\n",
    "\n",
    "pd.DataFrame(q3)"
   ]
  },
  {
   "cell_type": "code",
   "execution_count": 13,
   "id": "953bf8bb",
   "metadata": {},
   "outputs": [
    {
     "data": {
      "text/html": [
       "<div>\n",
       "<style scoped>\n",
       "    .dataframe tbody tr th:only-of-type {\n",
       "        vertical-align: middle;\n",
       "    }\n",
       "\n",
       "    .dataframe tbody tr th {\n",
       "        vertical-align: top;\n",
       "    }\n",
       "\n",
       "    .dataframe thead th {\n",
       "        text-align: right;\n",
       "    }\n",
       "</style>\n",
       "<table border=\"1\" class=\"dataframe\">\n",
       "  <thead>\n",
       "    <tr style=\"text-align: right;\">\n",
       "      <th></th>\n",
       "      <th>0</th>\n",
       "      <th>1</th>\n",
       "    </tr>\n",
       "  </thead>\n",
       "  <tbody>\n",
       "    <tr>\n",
       "      <th>0</th>\n",
       "      <td>Delta Air Lines Inc.</td>\n",
       "      <td>107851</td>\n",
       "    </tr>\n",
       "    <tr>\n",
       "      <th>1</th>\n",
       "      <td>American Airlines Inc.</td>\n",
       "      <td>105762</td>\n",
       "    </tr>\n",
       "    <tr>\n",
       "      <th>2</th>\n",
       "      <td>United Air Lines Inc.</td>\n",
       "      <td>102066</td>\n",
       "    </tr>\n",
       "  </tbody>\n",
       "</table>\n",
       "</div>"
      ],
      "text/plain": [
       "                        0       1\n",
       "0    Delta Air Lines Inc.  107851\n",
       "1  American Airlines Inc.  105762\n",
       "2   United Air Lines Inc.  102066"
      ]
     },
     "execution_count": 13,
     "metadata": {},
     "output_type": "execute_result"
    }
   ],
   "source": [
    "# Company with the highest number of cancelled flights = American Airlines\n",
    "\n",
    "q4 = c.execute('''\n",
    "SELECT carriers2.Description AS carrier2, COUNT(*) AS total\n",
    "FROM carriers2 JOIN ontime2 ON ontime2.UniqueCarrier = carriers2.Code\n",
    "WHERE ontime2.Cancelled = 1 AND carriers2.Description IN ('United Air Lines Inc.', 'American Airlines Inc.', 'Pinnacle Airlines Inc.', 'Delta Air Lines Inc.')\n",
    "GROUP BY carriers2.Description\n",
    "ORDER BY total DESC \n",
    " ''').fetchall()\n",
    "\n",
    "pd.DataFrame(q4)"
   ]
  },
  {
   "cell_type": "markdown",
   "id": "9b6f73db",
   "metadata": {},
   "source": [
    "### q2 below is assumed to be q4 mentioned in the assignment.\n",
    "__\n",
    "##### It's also the answer to question 4 of the assignment (simplified version of the code)"
   ]
  },
  {
   "cell_type": "code",
   "execution_count": 14,
   "id": "d651d086",
   "metadata": {},
   "outputs": [
    {
     "data": {
      "text/plain": [
       "0    0.024082\n",
       "1    0.023841\n",
       "2    0.027924\n",
       "Name: 1, dtype: float64"
      ]
     },
     "execution_count": 14,
     "metadata": {},
     "output_type": "execute_result"
    }
   ],
   "source": [
    "# This is basicly just q4 (line 10) divided with q5 (the code below):\n",
    "\n",
    "q5 = c.execute('''\n",
    "SELECT carriers2.Description AS carrier2, COUNT(*) AS total\n",
    "FROM carriers2 JOIN ontime2 ON ontime2.UniqueCarrier = carriers2.Code\n",
    "WHERE carriers2.Description IN ('United Air Lines Inc.', 'American Airlines Inc.', 'Pinnacle Airlines Inc.', 'Delta Air Lines Inc.')\n",
    "GROUP BY carriers2.Description\n",
    "ORDER BY total DESC \n",
    " ''').fetchall()\n",
    "z4 = pd.DataFrame(q4)\n",
    "z5 = pd.DataFrame(q5)\n",
    "q2 = z4[1]/z5[1]\n",
    "\n",
    "q2"
   ]
  },
  {
   "cell_type": "code",
   "execution_count": null,
   "id": "eff7d1f8",
   "metadata": {},
   "outputs": [],
   "source": [
    "# The answer is no. 2 = United Air Lines Inc with approx. 2.8%"
   ]
  }
 ],
 "metadata": {
  "kernelspec": {
   "display_name": "Python 3 (ipykernel)",
   "language": "python",
   "name": "python3"
  },
  "language_info": {
   "codemirror_mode": {
    "name": "ipython",
    "version": 3
   },
   "file_extension": ".py",
   "mimetype": "text/x-python",
   "name": "python",
   "nbconvert_exporter": "python",
   "pygments_lexer": "ipython3",
   "version": "3.8.12"
  }
 },
 "nbformat": 4,
 "nbformat_minor": 5
}
