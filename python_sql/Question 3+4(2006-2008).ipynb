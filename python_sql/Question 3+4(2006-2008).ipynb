{
 "cells": [
  {
   "cell_type": "code",
   "execution_count": 1,
   "id": "e9e6f159",
   "metadata": {},
   "outputs": [],
   "source": [
    "import sqlite3\n",
    "conn = sqlite3.connect('airline2.db')"
   ]
  },
  {
   "cell_type": "code",
   "execution_count": 2,
   "id": "f338bca6",
   "metadata": {},
   "outputs": [],
   "source": [
    "import pandas as pd\n",
    "\n",
    "airports = pd.read_csv(\"airports.csv\")\n",
    "carriers = pd.read_csv(\"carriers.csv\")\n",
    "airplanes = pd.read_csv(\"planedata.csv\")\n",
    "df1 = pd.read_csv(\"2006.csv\")\n",
    "df2 = pd.read_csv(\"2007.csv\")\n",
    "df3 = pd.read_csv(\"2008.csv\")\n",
    "\n"
   ]
  },
  {
   "cell_type": "code",
   "execution_count": 3,
   "id": "935374f0",
   "metadata": {},
   "outputs": [],
   "source": [
    "ontime = pd.concat([df1, df2, df3])"
   ]
  },
  {
   "cell_type": "code",
   "execution_count": 4,
   "id": "4e6a1c4d",
   "metadata": {},
   "outputs": [
    {
     "data": {
      "text/plain": [
       "<bound method NDFrame.tail of          Year  Month  DayofMonth  DayOfWeek  DepTime  CRSDepTime  ArrTime  \\\n",
       "0        2006      1          11          3    743.0         745   1024.0   \n",
       "1        2006      1          11          3   1053.0        1053   1313.0   \n",
       "2        2006      1          11          3   1915.0        1915   2110.0   \n",
       "3        2006      1          11          3   1753.0        1755   1925.0   \n",
       "4        2006      1          11          3    824.0         832   1015.0   \n",
       "...       ...    ...         ...        ...      ...         ...      ...   \n",
       "2389212  2008      4          17          4   1025.0        1025   1234.0   \n",
       "2389213  2008      4          17          4   1319.0        1320   1527.0   \n",
       "2389214  2008      4          17          4   1335.0        1335   1556.0   \n",
       "2389215  2008      4          17          4   1933.0        1935   2140.0   \n",
       "2389216  2008      4          17          4    621.0         615    752.0   \n",
       "\n",
       "         CRSArrTime UniqueCarrier  FlightNum  ... TaxiIn  TaxiOut  Cancelled  \\\n",
       "0              1018            US        343  ...   45.0     13.0          0   \n",
       "1              1318            US        613  ...   27.0     19.0          0   \n",
       "2              2133            US        617  ...    4.0     11.0          0   \n",
       "3              1933            US        300  ...   16.0     10.0          0   \n",
       "4              1015            US        765  ...   27.0     12.0          0   \n",
       "...             ...           ...        ...  ...    ...      ...        ...   \n",
       "2389212        1237            DL       1207  ...    5.0     16.0          0   \n",
       "2389213        1524            DL       1208  ...    9.0     12.0          0   \n",
       "2389214        1553            DL       1209  ...    7.0     31.0          0   \n",
       "2389215        2141            DL       1210  ...    9.0     12.0          0   \n",
       "2389216         754            DL       1211  ...   15.0     12.0          0   \n",
       "\n",
       "         CancellationCode  Diverted  CarrierDelay WeatherDelay NASDelay  \\\n",
       "0                     NaN         0           0.0          0.0      0.0   \n",
       "1                     NaN         0           0.0          0.0      0.0   \n",
       "2                     NaN         0           0.0          0.0      0.0   \n",
       "3                     NaN         0           0.0          0.0      0.0   \n",
       "4                     NaN         0           0.0          0.0      0.0   \n",
       "...                   ...       ...           ...          ...      ...   \n",
       "2389212               NaN         0           NaN          NaN      NaN   \n",
       "2389213               NaN         0           NaN          NaN      NaN   \n",
       "2389214               NaN         0           NaN          NaN      NaN   \n",
       "2389215               NaN         0           NaN          NaN      NaN   \n",
       "2389216               NaN         0           NaN          NaN      NaN   \n",
       "\n",
       "         SecurityDelay  LateAircraftDelay  \n",
       "0                  0.0                0.0  \n",
       "1                  0.0                0.0  \n",
       "2                  0.0                0.0  \n",
       "3                  0.0                0.0  \n",
       "4                  0.0                0.0  \n",
       "...                ...                ...  \n",
       "2389212            NaN                NaN  \n",
       "2389213            NaN                NaN  \n",
       "2389214            NaN                NaN  \n",
       "2389215            NaN                NaN  \n",
       "2389216            NaN                NaN  \n",
       "\n",
       "[16984354 rows x 29 columns]>"
      ]
     },
     "execution_count": 4,
     "metadata": {},
     "output_type": "execute_result"
    }
   ],
   "source": [
    "ontime.tail"
   ]
  },
  {
   "cell_type": "code",
   "execution_count": 5,
   "id": "76787304",
   "metadata": {},
   "outputs": [],
   "source": [
    "airports.to_sql('airports', con = conn, index = False) \n",
    "carriers.to_sql('carriers', con = conn, index = False)\n",
    "airplanes.to_sql('planedata', con = conn, index = False)\n",
    "ontime.to_sql('ontime', con = conn, index = False) "
   ]
  },
  {
   "cell_type": "code",
   "execution_count": 6,
   "id": "4510d566",
   "metadata": {},
   "outputs": [],
   "source": [
    "conn.commit()"
   ]
  },
  {
   "cell_type": "code",
   "execution_count": 7,
   "id": "480942a6",
   "metadata": {},
   "outputs": [
    {
     "data": {
      "text/plain": [
       "[('airports',), ('carriers',), ('planedata',), ('ontime',)]"
      ]
     },
     "execution_count": 7,
     "metadata": {},
     "output_type": "execute_result"
    }
   ],
   "source": [
    "c = conn.cursor()\n",
    "c.execute(\"SELECT name FROM sqlite_master WHERE type='table'\").fetchall()"
   ]
  },
  {
   "cell_type": "code",
   "execution_count": 8,
   "id": "655b5b70",
   "metadata": {},
   "outputs": [
    {
     "data": {
      "text/html": [
       "<div>\n",
       "<style scoped>\n",
       "    .dataframe tbody tr th:only-of-type {\n",
       "        vertical-align: middle;\n",
       "    }\n",
       "\n",
       "    .dataframe tbody tr th {\n",
       "        vertical-align: top;\n",
       "    }\n",
       "\n",
       "    .dataframe thead th {\n",
       "        text-align: right;\n",
       "    }\n",
       "</style>\n",
       "<table border=\"1\" class=\"dataframe\">\n",
       "  <thead>\n",
       "    <tr style=\"text-align: right;\">\n",
       "      <th></th>\n",
       "      <th>0</th>\n",
       "      <th>1</th>\n",
       "    </tr>\n",
       "  </thead>\n",
       "  <tbody>\n",
       "    <tr>\n",
       "      <th>0</th>\n",
       "      <td>Chicago</td>\n",
       "      <td>1051340</td>\n",
       "    </tr>\n",
       "    <tr>\n",
       "      <th>1</th>\n",
       "      <td>Atlanta</td>\n",
       "      <td>937377</td>\n",
       "    </tr>\n",
       "    <tr>\n",
       "      <th>2</th>\n",
       "      <td>Dallas-Fort Worth</td>\n",
       "      <td>671820</td>\n",
       "    </tr>\n",
       "    <tr>\n",
       "      <th>3</th>\n",
       "      <td>Houston</td>\n",
       "      <td>609759</td>\n",
       "    </tr>\n",
       "    <tr>\n",
       "      <th>4</th>\n",
       "      <td>New York</td>\n",
       "      <td>547471</td>\n",
       "    </tr>\n",
       "    <tr>\n",
       "      <th>...</th>\n",
       "      <td>...</td>\n",
       "      <td>...</td>\n",
       "    </tr>\n",
       "    <tr>\n",
       "      <th>296</th>\n",
       "      <td>New Haven</td>\n",
       "      <td>3</td>\n",
       "    </tr>\n",
       "    <tr>\n",
       "      <th>297</th>\n",
       "      <td>Greenville</td>\n",
       "      <td>2</td>\n",
       "    </tr>\n",
       "    <tr>\n",
       "      <th>298</th>\n",
       "      <td>Scottsbluff</td>\n",
       "      <td>1</td>\n",
       "    </tr>\n",
       "    <tr>\n",
       "      <th>299</th>\n",
       "      <td>North Platte</td>\n",
       "      <td>1</td>\n",
       "    </tr>\n",
       "    <tr>\n",
       "      <th>300</th>\n",
       "      <td>Laramie</td>\n",
       "      <td>1</td>\n",
       "    </tr>\n",
       "  </tbody>\n",
       "</table>\n",
       "<p>301 rows × 2 columns</p>\n",
       "</div>"
      ],
      "text/plain": [
       "                     0        1\n",
       "0              Chicago  1051340\n",
       "1              Atlanta   937377\n",
       "2    Dallas-Fort Worth   671820\n",
       "3              Houston   609759\n",
       "4             New York   547471\n",
       "..                 ...      ...\n",
       "296          New Haven        3\n",
       "297         Greenville        2\n",
       "298        Scottsbluff        1\n",
       "299       North Platte        1\n",
       "300            Laramie        1\n",
       "\n",
       "[301 rows x 2 columns]"
      ]
     },
     "execution_count": 8,
     "metadata": {},
     "output_type": "execute_result"
    }
   ],
   "source": [
    "# City with highest number of inbound flights (excluding cancelled flights) = Chicago\n",
    "\n",
    "q1 = c.execute('''\n",
    "SELECT airports.city as city, COUNT(*) AS total\n",
    "FROM airports  JOIN ontime ON ontime.dest = airports.iata\n",
    "WHERE ontime.Cancelled = 0\n",
    "GROUP BY airports.city\n",
    "ORDER BY total DESC\n",
    "''').fetchall()\n",
    "\n",
    "pd.DataFrame(q1)"
   ]
  },
  {
   "cell_type": "code",
   "execution_count": 9,
   "id": "342e8aba",
   "metadata": {},
   "outputs": [
    {
     "data": {
      "text/html": [
       "<div>\n",
       "<style scoped>\n",
       "    .dataframe tbody tr th:only-of-type {\n",
       "        vertical-align: middle;\n",
       "    }\n",
       "\n",
       "    .dataframe tbody tr th {\n",
       "        vertical-align: top;\n",
       "    }\n",
       "\n",
       "    .dataframe thead th {\n",
       "        text-align: right;\n",
       "    }\n",
       "</style>\n",
       "<table border=\"1\" class=\"dataframe\">\n",
       "  <thead>\n",
       "    <tr style=\"text-align: right;\">\n",
       "      <th></th>\n",
       "      <th>0</th>\n",
       "      <th>1</th>\n",
       "    </tr>\n",
       "  </thead>\n",
       "  <tbody>\n",
       "    <tr>\n",
       "      <th>0</th>\n",
       "      <td>737-230</td>\n",
       "      <td>12.956403</td>\n",
       "    </tr>\n",
       "    <tr>\n",
       "      <th>1</th>\n",
       "      <td>737-282</td>\n",
       "      <td>13.688697</td>\n",
       "    </tr>\n",
       "    <tr>\n",
       "      <th>2</th>\n",
       "      <td>737-236</td>\n",
       "      <td>13.950983</td>\n",
       "    </tr>\n",
       "    <tr>\n",
       "      <th>3</th>\n",
       "      <td>737-2P6</td>\n",
       "      <td>15.585598</td>\n",
       "    </tr>\n",
       "    <tr>\n",
       "      <th>4</th>\n",
       "      <td>737-2X6C</td>\n",
       "      <td>15.667864</td>\n",
       "    </tr>\n",
       "    <tr>\n",
       "      <th>...</th>\n",
       "      <td>...</td>\n",
       "      <td>...</td>\n",
       "    </tr>\n",
       "    <tr>\n",
       "      <th>161</th>\n",
       "      <td>ATR-72-212</td>\n",
       "      <td>47.663491</td>\n",
       "    </tr>\n",
       "    <tr>\n",
       "      <th>162</th>\n",
       "      <td>EMB-135ER</td>\n",
       "      <td>47.791864</td>\n",
       "    </tr>\n",
       "    <tr>\n",
       "      <th>163</th>\n",
       "      <td>DHC-8-102</td>\n",
       "      <td>52.545455</td>\n",
       "    </tr>\n",
       "    <tr>\n",
       "      <th>164</th>\n",
       "      <td>A330-323</td>\n",
       "      <td>54.285714</td>\n",
       "    </tr>\n",
       "    <tr>\n",
       "      <th>165</th>\n",
       "      <td>A330-223</td>\n",
       "      <td>105.647059</td>\n",
       "    </tr>\n",
       "  </tbody>\n",
       "</table>\n",
       "<p>166 rows × 2 columns</p>\n",
       "</div>"
      ],
      "text/plain": [
       "              0           1\n",
       "0       737-230   12.956403\n",
       "1       737-282   13.688697\n",
       "2       737-236   13.950983\n",
       "3       737-2P6   15.585598\n",
       "4      737-2X6C   15.667864\n",
       "..          ...         ...\n",
       "161  ATR-72-212   47.663491\n",
       "162   EMB-135ER   47.791864\n",
       "163   DHC-8-102   52.545455\n",
       "164    A330-323   54.285714\n",
       "165    A330-223  105.647059\n",
       "\n",
       "[166 rows x 2 columns]"
      ]
     },
     "execution_count": 9,
     "metadata": {},
     "output_type": "execute_result"
    }
   ],
   "source": [
    "# airplane that has the lowest avg. dep. delay (excl. cancelled and diverted) = 737-230\n",
    "\n",
    "q3 = c.execute('''\n",
    "SELECT model AS model, AVG(ontime.DepDelay) AS avg_delay\n",
    "FROM planedata JOIN ontime USING(tailnum)\n",
    "WHERE ontime.Cancelled = 0 AND ontime.Diverted = 0 AND ontime.DepDelay > 0\n",
    "GROUP BY model\n",
    "ORDER BY avg_delay\n",
    " ''').fetchall()\n",
    "\n",
    "pd.DataFrame(q3)"
   ]
  },
  {
   "cell_type": "code",
   "execution_count": 10,
   "id": "b45387d9",
   "metadata": {
    "scrolled": true
   },
   "outputs": [
    {
     "data": {
      "text/html": [
       "<div>\n",
       "<style scoped>\n",
       "    .dataframe tbody tr th:only-of-type {\n",
       "        vertical-align: middle;\n",
       "    }\n",
       "\n",
       "    .dataframe tbody tr th {\n",
       "        vertical-align: top;\n",
       "    }\n",
       "\n",
       "    .dataframe thead th {\n",
       "        text-align: right;\n",
       "    }\n",
       "</style>\n",
       "<table border=\"1\" class=\"dataframe\">\n",
       "  <thead>\n",
       "    <tr style=\"text-align: right;\">\n",
       "      <th></th>\n",
       "      <th>0</th>\n",
       "      <th>1</th>\n",
       "    </tr>\n",
       "  </thead>\n",
       "  <tbody>\n",
       "    <tr>\n",
       "      <th>0</th>\n",
       "      <td>American Airlines Inc.</td>\n",
       "      <td>38835</td>\n",
       "    </tr>\n",
       "    <tr>\n",
       "      <th>1</th>\n",
       "      <td>United Air Lines Inc.</td>\n",
       "      <td>26783</td>\n",
       "    </tr>\n",
       "    <tr>\n",
       "      <th>2</th>\n",
       "      <td>Delta Air Lines Inc.</td>\n",
       "      <td>17267</td>\n",
       "    </tr>\n",
       "    <tr>\n",
       "      <th>3</th>\n",
       "      <td>Pinnacle Airlines Inc.</td>\n",
       "      <td>12036</td>\n",
       "    </tr>\n",
       "  </tbody>\n",
       "</table>\n",
       "</div>"
      ],
      "text/plain": [
       "                        0      1\n",
       "0  American Airlines Inc.  38835\n",
       "1   United Air Lines Inc.  26783\n",
       "2    Delta Air Lines Inc.  17267\n",
       "3  Pinnacle Airlines Inc.  12036"
      ]
     },
     "execution_count": 10,
     "metadata": {},
     "output_type": "execute_result"
    }
   ],
   "source": [
    "# Company with the highest number of cancelled flights = American Airlines\n",
    "\n",
    "q4 = c.execute('''\n",
    "SELECT carriers.Description AS carrier, COUNT(*) AS total\n",
    "FROM carriers JOIN ontime ON ontime.UniqueCarrier = carriers.Code\n",
    "WHERE ontime.Cancelled = 1 AND carriers.Description IN ('United Air Lines Inc.', 'American Airlines Inc.', 'Pinnacle Airlines Inc.', 'Delta Air Lines Inc.')\n",
    "GROUP BY carriers.Description\n",
    "ORDER BY total DESC \n",
    " ''').fetchall()\n",
    "\n",
    "pd.DataFrame(q4)"
   ]
  },
  {
   "cell_type": "markdown",
   "id": "544ebc2a",
   "metadata": {},
   "source": [
    "### q2 below is assumed to be q4 mentioned in the assignment.\n",
    "__\n",
    "##### It's also the answer to question 4 of the assignment (simplified version of the code)"
   ]
  },
  {
   "cell_type": "code",
   "execution_count": 42,
   "id": "f9228aa6",
   "metadata": {},
   "outputs": [
    {
     "data": {
      "text/plain": [
       "0    0.026205\n",
       "1    0.023411\n",
       "2    0.015235\n",
       "3    0.034665\n",
       "Name: 1, dtype: float64"
      ]
     },
     "execution_count": 42,
     "metadata": {},
     "output_type": "execute_result"
    }
   ],
   "source": [
    "# This is basicly just q4 (line 10) / with q5 (the code below):\n",
    "\n",
    "q5 = c.execute('''\n",
    "SELECT carriers.Description AS carrier, COUNT(*) AS total\n",
    "FROM carriers JOIN ontime ON ontime.UniqueCarrier = carriers.Code\n",
    "WHERE carriers.Description IN ('United Air Lines Inc.', 'American Airlines Inc.', 'Pinnacle Airlines Inc.', 'Delta Air Lines Inc.')\n",
    "GROUP BY carriers.Description\n",
    "ORDER BY total DESC \n",
    " ''').fetchall()\n",
    "z4 = pd.DataFrame(q4)\n",
    "z5 = pd.DataFrame(q5)\n",
    "q2 = z4[1]/z5[1]\n",
    "\n",
    "q2\n"
   ]
  },
  {
   "cell_type": "code",
   "execution_count": 43,
   "id": "0dc7943b",
   "metadata": {
    "scrolled": false
   },
   "outputs": [],
   "source": [
    "# The answer is no. 3 = Pinnacle Airlines "
   ]
  }
 ],
 "metadata": {
  "kernelspec": {
   "display_name": "Python 3 (ipykernel)",
   "language": "python",
   "name": "python3"
  },
  "language_info": {
   "codemirror_mode": {
    "name": "ipython",
    "version": 3
   },
   "file_extension": ".py",
   "mimetype": "text/x-python",
   "name": "python",
   "nbconvert_exporter": "python",
   "pygments_lexer": "ipython3",
   "version": "3.8.12"
  }
 },
 "nbformat": 4,
 "nbformat_minor": 5
}
